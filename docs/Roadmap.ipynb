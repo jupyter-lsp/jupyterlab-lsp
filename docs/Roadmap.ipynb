{
 "cells": [
  {
   "cell_type": "markdown",
   "metadata": {},
   "source": [
    "## Roadmap\n",
    "\n",
    "> If a feature you would like is not on the lists above, please feel free to\n",
    "> suggest it by opening a new\n",
    "> [issue](https://github.com/jupyter-lsp/jupyterlab-lsp/issues)."
   ]
  },
  {
   "cell_type": "markdown",
   "metadata": {},
   "source": [
    "### Front End\n",
    "\n",
    "- improved code navigation when there are multiple jump targets\n",
    "- system of settings, including options:\n",
    "  - to change the verbosity of signature documentation hints (number of lines to\n",
    "    be shown)\n",
    "  - custom foreign extractors allowing to customize behaviour for magics\n",
    "- code actions (allowing to \"quick fix\" a typo, etc.)\n",
    "- code formatting\n",
    "- gutter with linter results\n",
    "- use the kernel session for autocompletion in FileEditor if available (PR\n",
    "  welcome)"
   ]
  },
  {
   "cell_type": "markdown",
   "metadata": {},
   "source": [
    "### Backend\n",
    "\n",
    "- [#49](https://github.com/jupyter-lsp/jupyterlab-lsp/issues/49) cookiecutter\n",
    "  for pip-installable specs\n",
    "- add hook system to allow serverextensions/kernels to modify, inspect and react\n",
    "  to LSP messages"
   ]
  }
 ],
 "metadata": {
  "kernelspec": {
   "display_name": "Python 3 (ipykernel)",
   "language": "python",
   "name": "python3"
  },
  "language_info": {
   "codemirror_mode": {
    "name": "ipython",
    "version": 3
   },
   "file_extension": ".py",
   "mimetype": "text/x-python",
   "name": "python",
   "nbconvert_exporter": "python",
   "pygments_lexer": "ipython3",
   "version": "3.7.9"
  },
  "widgets": {
   "application/vnd.jupyter.widget-state+json": {
    "state": {},
    "version_major": 2,
    "version_minor": 0
   }
  }
 },
 "nbformat": 4,
 "nbformat_minor": 4
}
