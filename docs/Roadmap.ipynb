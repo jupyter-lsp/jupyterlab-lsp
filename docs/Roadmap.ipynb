{
 "cells": [
  {
   "cell_type": "markdown",
   "metadata": {},
   "source": [
    "## Roadmap\n",
    "\n",
    "> If a feature you would like is not on the lists above, please feel free to\n",
    "> suggest it by opening a new\n",
    "> [issue](https://github.com/krassowski/jupyterlab-lsp/issues)."
   ]
  },
  {
   "cell_type": "markdown",
   "metadata": {},
   "source": [
    "### Front End\n",
    "\n",
    "- improved code navigation when there are multiple jump targets\n",
    "- autocompleter with documentation and sorting based on LSP suggestions\n",
    "- system of settings, including options:\n",
    "  - to enable aggressive autocompletion (like in hinterland)\n",
    "  - to change the verbosity of signature hints (whether to show documentation,\n",
    "    number of lines to be shown)\n",
    "  - custom foreign extractors allowing to customize behaviour for magics\n",
    "- code actions (allowing to \"quick fix\" a typo, etc.)\n",
    "- gutter with linter results\n",
    "- use the kernel session for autocompletion in FileEditor if available (PR\n",
    "  welcome)"
   ]
  },
  {
   "cell_type": "markdown",
   "metadata": {},
   "source": [
    "### Backend\n",
    "\n",
    "- release on `conda`\n",
    "- [#49](https://github.com/krassowski/jupyterlab-lsp/issues/49) cookiecutter for\n",
    "  pip-installable specs\n",
    "- add hook system to allow listeners to modify to modify LSP messages"
   ]
  }
 ],
 "metadata": {
  "kernelspec": {
   "display_name": "Python 3",
   "language": "python",
   "name": "python3"
  },
  "language_info": {
   "codemirror_mode": {
    "name": "ipython",
    "version": 3
   },
   "file_extension": ".py",
   "mimetype": "text/x-python",
   "name": "python",
   "nbconvert_exporter": "python",
   "pygments_lexer": "ipython3",
   "version": "3.7.6"
  }
 },
 "nbformat": 4,
 "nbformat_minor": 4
}
