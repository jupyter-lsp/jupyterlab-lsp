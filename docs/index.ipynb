{
 "cells": [
  {
   "cell_type": "markdown",
   "metadata": {},
   "source": [
    "# Jupyter[Lab] Language Server Protocol\n",
    "\n",
    "This is the documentation for:\n",
    "\n",
    "- [jupyterlab-lsp](https://pypi.org/project/jupyterlab-lsp/)\n",
    "- [jupyter-lsp](https://pypi.org/project/jupyter-lsp/)\n",
    "\n",
    "Both are managed on [GitHub](https://github.com/jupyter-lsp/jupyterlab-lsp),\n",
    "where you can find the\n",
    "[issue tracker](https://github.com/jupyter-lsp/jupyterlab-lsp/issues)."
   ]
  },
  {
   "cell_type": "markdown",
   "metadata": {
    "nbsphinx-toctree": {
     "maxdepth": 2
    }
   },
   "source": [
    "```{toctree}\n",
    "---\n",
    "caption: Getting Started\n",
    "maxdepth: 2\n",
    "---\n",
    "Installation\n",
    "Language Servers\n",
    "Servers configuration <Configuring>\n",
    "```"
   ]
  },
  {
   "cell_type": "markdown",
   "metadata": {
    "nbsphinx-toctree": {
     "maxdepth": 2
    }
   },
   "source": [
    "```{toctree}\n",
    "---\n",
    "caption: Advanced Usage\n",
    "maxdepth: 2\n",
    "---\n",
    "Contributing\n",
    "Extending\n",
    "Releasing\n",
    "```"
   ]
  },
  {
   "cell_type": "markdown",
   "metadata": {
    "nbsphinx-toctree": {
     "maxdepth": 2
    }
   },
   "source": [
    "```{toctree}\n",
    "---\n",
    "caption: Project Information\n",
    "maxdepth: 1\n",
    "---\n",
    "Changelog <CHANGELOG>\n",
    "Roadmap\n",
    "Architecture\n",
    "GitHub repo <https://github.com/jupyter-lsp/jupyterlab-lsp>\n",
    "```"
   ]
  }
 ],
 "metadata": {
  "kernelspec": {
   "display_name": "Python 3 (ipykernel)",
   "language": "python",
   "name": "python3"
  },
  "language_info": {
   "codemirror_mode": {
    "name": "ipython",
    "version": 3
   },
   "file_extension": ".py",
   "mimetype": "text/x-python",
   "name": "python",
   "nbconvert_exporter": "python",
   "pygments_lexer": "ipython3",
   "version": "3.7.9"
  },
  "widgets": {
   "application/vnd.jupyter.widget-state+json": {
    "state": {},
    "version_major": 2,
    "version_minor": 0
   }
  }
 },
 "nbformat": 4,
 "nbformat_minor": 4
}
