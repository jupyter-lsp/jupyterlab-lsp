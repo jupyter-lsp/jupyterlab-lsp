{
 "cells": [
  {
   "cell_type": "markdown",
   "metadata": {},
   "source": [
    "## Releasing\n",
    "\n",
    "`jupyterlab-lsp` and `jupyter-lsp` releases may require building both the python\n",
    "package and nodejs packages."
   ]
  },
  {
   "cell_type": "markdown",
   "metadata": {},
   "source": [
    "### Updating Version Strings\n",
    "\n",
    "Use the `bump_versions` script to manage the version strings:\n",
    "\n",
    "```bash\n",
    "python scripts/bump_versions.py\n",
    "```\n",
    "\n",
    "Check the version strings across the various files:\n",
    "\n",
    "```bash\n",
    "python scripts/integrity.py\n",
    "```\n",
    "\n",
    "This repository does not yet support `jupyter-releaser` but pull requests are\n",
    "welcome!"
   ]
  },
  {
   "cell_type": "markdown",
   "metadata": {},
   "source": [
    "### Publishing\n",
    "\n",
    "> Note: \"smoke source install\" step on CI will fail when bumping internal\n",
    "> dependencies until those are published on NPM. Make sure to release those\n",
    "> first and re-run this check then.\n",
    "\n",
    "```bash\n",
    "cd packages/completion-theme\n",
    "npm publish --access public\n",
    "cd -\n",
    "cd packages/theme-material\n",
    "npm publish --access public\n",
    "cd -\n",
    "cd packages/theme-vscode\n",
    "npm publish --access public\n",
    "cd -\n",
    "cd packages/jupyterlab-lsp\n",
    "npm publish --access public\n",
    "cd -\n",
    "./scripts/publish_pypi.sh\n",
    "```"
   ]
  }
 ],
 "metadata": {
  "kernelspec": {
   "display_name": "Python 3 (ipykernel)",
   "language": "python",
   "name": "python3"
  },
  "language_info": {
   "codemirror_mode": {
    "name": "ipython",
    "version": 3
   },
   "file_extension": ".py",
   "mimetype": "text/x-python",
   "name": "python",
   "nbconvert_exporter": "python",
   "pygments_lexer": "ipython3",
   "version": "3.11.4"
  },
  "widgets": {
   "application/vnd.jupyter.widget-state+json": {
    "state": {},
    "version_major": 2,
    "version_minor": 0
   }
  }
 },
 "nbformat": 4,
 "nbformat_minor": 4
}
