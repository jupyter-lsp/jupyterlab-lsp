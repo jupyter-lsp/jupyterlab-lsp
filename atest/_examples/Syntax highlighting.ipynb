{
 "cells": [
  {
   "cell_type": "code",
   "execution_count": null,
   "metadata": {},
   "outputs": [],
   "source": [
    "variable = 1\n",
    "\n",
    "def function():\n",
    "    return\n",
    "\n",
    "# note print is highlighted in Python but function is not\n",
    "print(variable, function)"
   ]
  },
  {
   "cell_type": "code",
   "execution_count": null,
   "metadata": {},
   "outputs": [],
   "source": [
    "%%markdown\n",
    "# header\n",
    "**bold**, *italic*\n",
    "\n",
    "### Heading with wrong level"
   ]
  },
  {
   "cell_type": "code",
   "execution_count": null,
   "metadata": {},
   "outputs": [],
   "source": [
    "%%html\n",
    "<html style=\"color: green\">\n",
    "  <!-- this is a comment -->\n",
    "  <head>\n",
    "    <title>HTML Example</title>\n",
    "  </head>\n",
    "  <body>\n",
    "    The indentation tries to be <em>somewhat &quot;do what\n",
    "    I mean&quot;</em>... but might not match your style.\n",
    "  </body>\n",
    "</html>"
   ]
  },
  {
   "cell_type": "code",
   "execution_count": null,
   "metadata": {},
   "outputs": [],
   "source": [
    "%%javascript\n",
    "// \"print\" is NOT highlighted in javascript, while \"function\" is\n",
    "function add_together(a, b) {\n",
    "    return a + b\n",
    "}\n",
    "\n",
    "print('A')"
   ]
  },
  {
   "cell_type": "markdown",
   "metadata": {},
   "source": [
    "It should work for the same language of virtual document with multiple occurrences:"
   ]
  },
  {
   "cell_type": "code",
   "execution_count": null,
   "metadata": {},
   "outputs": [],
   "source": [
    "%%javascript \n",
    "function add_together(a, b) {\n",
    "    return a + b\n",
    "}\n",
    "\n",
    "print('A')"
   ]
  }
 ],
 "metadata": {
  "kernelspec": {
   "display_name": "Python 3",
   "language": "python",
   "name": "python3"
  },
  "language_info": {
   "codemirror_mode": {
    "name": "ipython",
    "version": 3
   },
   "file_extension": ".py",
   "mimetype": "text/x-python",
   "name": "python",
   "nbconvert_exporter": "python",
   "pygments_lexer": "ipython3",
   "version": "3.7.9"
  }
 },
 "nbformat": 4,
 "nbformat_minor": 4
}
